{
 "cells": [
  {
   "cell_type": "code",
   "execution_count": 10,
   "metadata": {},
   "outputs": [],
   "source": [
    "import csv\n",
    "from pprint import pprint\n",
    "\n",
    "# Maps names to a set of corresponding person_ids\n",
    "names = {}\n",
    "\n",
    "# Maps person_ids to a dictionary of: name, birth, movies (a set of movie_ids)\n",
    "people = {}\n",
    "\n",
    "# Maps movie_ids to a dictionary of: title, year, stars (a set of person_ids)\n",
    "movies = {}\n",
    "\n",
    "\n",
    "def load_data(directory):\n",
    "    \"\"\"\n",
    "    Load data from CSV files into memory.\n",
    "    \"\"\"\n",
    "    # Load people\n",
    "    with open(f\"{directory}/people.csv\", encoding=\"utf-8\") as f:\n",
    "        reader = csv.DictReader(f)\n",
    "        for row in reader:\n",
    "            people[row[\"id\"]] = {\n",
    "                \"name\": row[\"name\"],\n",
    "                \"birth\": row[\"birth\"],\n",
    "                \"movies\": set()\n",
    "            }\n",
    "            if row[\"name\"].lower() not in names:\n",
    "                names[row[\"name\"].lower()] = {row[\"id\"]}\n",
    "            else:\n",
    "                names[row[\"name\"].lower()].add(row[\"id\"])\n",
    "\n",
    "    # Load movies\n",
    "    with open(f\"{directory}/movies.csv\", encoding=\"utf-8\") as f:\n",
    "        reader = csv.DictReader(f)\n",
    "        for row in reader:\n",
    "            movies[row[\"id\"]] = {\n",
    "                \"title\": row[\"title\"],\n",
    "                \"year\": row[\"year\"],\n",
    "                \"stars\": set()\n",
    "            }\n",
    "\n",
    "    # Load stars\n",
    "    with open(f\"{directory}/stars.csv\", encoding=\"utf-8\") as f:\n",
    "        reader = csv.DictReader(f)\n",
    "        for row in reader:\n",
    "            try:\n",
    "                people[row[\"person_id\"]][\"movies\"].add(row[\"movie_id\"])\n",
    "                movies[row[\"movie_id\"]][\"stars\"].add(row[\"person_id\"])\n",
    "            except KeyError:\n",
    "                pass\n",
    "\n",
    "load_data(\"small\")"
   ]
  },
  {
   "cell_type": "code",
   "execution_count": 11,
   "metadata": {},
   "outputs": [
    {
     "name": "stdout",
     "output_type": "stream",
     "text": [
      "{'bill paxton': {'200'},\n",
      " 'cary elwes': {'144'},\n",
      " 'chris sarandon': {'1697'},\n",
      " 'demi moore': {'193'},\n",
      " 'dustin hoffman': {'163'},\n",
      " 'emma watson': {'914612'},\n",
      " 'gary sinise': {'641'},\n",
      " 'gerald r. molen': {'596520'},\n",
      " 'jack nicholson': {'197'},\n",
      " 'kevin bacon': {'102'},\n",
      " 'mandy patinkin': {'1597'},\n",
      " 'robin wright': {'705'},\n",
      " 'sally field': {'398'},\n",
      " 'tom cruise': {'129'},\n",
      " 'tom hanks': {'158'},\n",
      " 'valeria golino': {'420'}}\n"
     ]
    }
   ],
   "source": [
    "pprint(names)"
   ]
  },
  {
   "cell_type": "code",
   "execution_count": 12,
   "metadata": {},
   "outputs": [
    {
     "name": "stdout",
     "output_type": "stream",
     "text": [
      "{'102': {'birth': '1958',\n",
      "         'movies': {'112384', '104257'},\n",
      "         'name': 'Kevin Bacon'},\n",
      " '129': {'birth': '1962', 'movies': {'95953', '104257'}, 'name': 'Tom Cruise'},\n",
      " '144': {'birth': '1962', 'movies': {'93779'}, 'name': 'Cary Elwes'},\n",
      " '158': {'birth': '1956', 'movies': {'109830', '112384'}, 'name': 'Tom Hanks'},\n",
      " '1597': {'birth': '1952', 'movies': {'93779'}, 'name': 'Mandy Patinkin'},\n",
      " '163': {'birth': '1937', 'movies': {'95953'}, 'name': 'Dustin Hoffman'},\n",
      " '1697': {'birth': '1942', 'movies': {'93779'}, 'name': 'Chris Sarandon'},\n",
      " '193': {'birth': '1962', 'movies': {'104257'}, 'name': 'Demi Moore'},\n",
      " '197': {'birth': '1937', 'movies': {'104257'}, 'name': 'Jack Nicholson'},\n",
      " '200': {'birth': '1955', 'movies': {'112384'}, 'name': 'Bill Paxton'},\n",
      " '398': {'birth': '1946', 'movies': {'109830'}, 'name': 'Sally Field'},\n",
      " '420': {'birth': '1965', 'movies': {'95953'}, 'name': 'Valeria Golino'},\n",
      " '596520': {'birth': '1935', 'movies': {'95953'}, 'name': 'Gerald R. Molen'},\n",
      " '641': {'birth': '1955',\n",
      "         'movies': {'109830', '112384'},\n",
      "         'name': 'Gary Sinise'},\n",
      " '705': {'birth': '1966',\n",
      "         'movies': {'109830', '93779'},\n",
      "         'name': 'Robin Wright'},\n",
      " '914612': {'birth': '1990', 'movies': set(), 'name': 'Emma Watson'}}\n"
     ]
    }
   ],
   "source": [
    "pprint(people)"
   ]
  },
  {
   "cell_type": "code",
   "execution_count": 13,
   "metadata": {},
   "outputs": [
    {
     "name": "stdout",
     "output_type": "stream",
     "text": [
      "{'104257': {'stars': {'193', '197', '102', '129'},\n",
      "            'title': 'A Few Good Men',\n",
      "            'year': '1992'},\n",
      " '109830': {'stars': {'158', '705', '641', '398'},\n",
      "            'title': 'Forrest Gump',\n",
      "            'year': '1994'},\n",
      " '112384': {'stars': {'158', '641', '102', '200'},\n",
      "            'title': 'Apollo 13',\n",
      "            'year': '1995'},\n",
      " '93779': {'stars': {'1597', '705', '144', '1697'},\n",
      "           'title': 'The Princess Bride',\n",
      "           'year': '1987'},\n",
      " '95953': {'stars': {'596520', '420', '129', '163'},\n",
      "           'title': 'Rain Man',\n",
      "           'year': '1988'}}\n"
     ]
    }
   ],
   "source": [
    "pprint(movies)"
   ]
  },
  {
   "cell_type": "code",
   "execution_count": null,
   "metadata": {},
   "outputs": [],
   "source": []
  },
  {
   "cell_type": "code",
   "execution_count": null,
   "metadata": {},
   "outputs": [],
   "source": []
  }
 ],
 "metadata": {
  "kernelspec": {
   "display_name": "cs50ai",
   "language": "python",
   "name": "python3"
  },
  "language_info": {
   "codemirror_mode": {
    "name": "ipython",
    "version": 3
   },
   "file_extension": ".py",
   "mimetype": "text/x-python",
   "name": "python",
   "nbconvert_exporter": "python",
   "pygments_lexer": "ipython3",
   "version": "3.12.9"
  }
 },
 "nbformat": 4,
 "nbformat_minor": 2
}
